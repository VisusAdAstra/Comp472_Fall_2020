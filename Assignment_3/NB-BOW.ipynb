{
 "metadata": {
  "language_info": {
   "codemirror_mode": {
    "name": "ipython",
    "version": 3
   },
   "file_extension": ".py",
   "mimetype": "text/x-python",
   "name": "python",
   "nbconvert_exporter": "python",
   "pygments_lexer": "ipython3",
   "version": "3.8.5-final"
  },
  "orig_nbformat": 2,
  "kernelspec": {
   "name": "python3",
   "display_name": "Python 3.8.5 64-bit ('testenv': conda)",
   "metadata": {
    "interpreter": {
     "hash": "65a42bdb2f4fd1e2963f63fbecc12d40428c78ad536e43f0559247f991c7d5d2"
    }
   }
  }
 },
 "nbformat": 4,
 "nbformat_minor": 2,
 "cells": [
  {
   "cell_type": "code",
   "execution_count": null,
   "metadata": {},
   "outputs": [],
   "source": [
    "import numpy as np\n",
    "import pandas as pd\n",
    "import matplotlib.pyplot as plt\n",
    "import operator\n",
    "import sklearn\n",
    "import sklearn.model_selection\n",
    "from sklearn.metrics import confusion_matrix, classification_report, accuracy_score\n",
    "\n",
    "import re\n",
    "import nltk"
   ]
  },
  {
   "cell_type": "code",
   "execution_count": null,
   "metadata": {},
   "outputs": [],
   "source": [
    "nltk.download('punkt')\n",
    "from nltk.tokenize import word_tokenize as wt \n",
    "nltk.download('stopwords')\n",
    "from nltk.corpus import stopwords\n",
    "\n",
    "import importlib\n",
    "import src.models as model\n",
    "importlib.reload(model)\n",
    "import src.utils as util\n",
    "importlib.reload(util);"
   ]
  },
  {
   "cell_type": "code",
   "execution_count": null,
   "metadata": {
    "tags": []
   },
   "outputs": [],
   "source": [
    "# global data\n",
    "training_set = pd.read_csv(\"data/covid_training.tsv\", sep=\"\\t\")\n",
    "test_set = pd.read_csv(\"data/covid_test_public.tsv\", sep=\"\\t\")\n",
    "preX = training_set.values[:,1]\n",
    "prey = training_set.values[:,2]\n",
    "X = np.array(preX).reshape(-1, 1)\n",
    "categories = list(set(prey))\n",
    "y = np.array([categories.index(ele) for ele in prey]).reshape(-1,1)\n",
    "\n",
    "X_test = test_set.values[:,1].reshape(-1, 1)\n",
    "y_test = np.array([categories.index(ele) for ele in test_set.values[:,2]]).reshape(-1,1)\n",
    "X_train, X_val, y_train, y_val = sklearn.model_selection.train_test_split(X, y, train_size=0.9, random_state=0)\n",
    "print(X_test.shape)"
   ]
  },
  {
   "cell_type": "code",
   "execution_count": null,
   "metadata": {},
   "outputs": [],
   "source": [
    "#data format\n",
    "pd.DataFrame(data=np.column_stack([X,y]),columns=[\"Training Examples\",\"Training Labels\"]).head()\n",
    "pd.DataFrame(data=np.column_stack([X_test,y_test]),columns=[\"Training Examples\",\"Training Labels\"]).head()"
   ]
  },
  {
   "cell_type": "code",
   "execution_count": null,
   "metadata": {
    "tags": []
   },
   "outputs": [],
   "source": [
    "#training\n",
    "nb_bow = model.NB_BOW(np.unique(y)) #instantiate a NB class object\n",
    "\n",
    "print (\"---------------- Training In Progress --------------------\")\n",
    " \n",
    "nb_bow.train(X, y) #start tarining by calling the train function\n",
    "\n",
    "print ('----------------- Training Completed ---------------------')"
   ]
  },
  {
   "cell_type": "code",
   "execution_count": null,
   "metadata": {
    "tags": []
   },
   "outputs": [],
   "source": [
    "#testing\n",
    "predict_classes = nb_bow.test(X_test)\n",
    "test_acc=np.sum(predict_classes == y_test.reshape(-1))/float(y_test.shape[0]) \n",
    "\n",
    "print (\"Test Set Examples: \",y_test.shape[0])\n",
    "print (\"Test Set Accuracy: \",test_acc*100,\"%\")\n",
    "print(predict_classes)\n",
    "print( y_test.reshape(-1))"
   ]
  },
  {
   "cell_type": "code",
   "execution_count": null,
   "metadata": {},
   "outputs": [],
   "source": []
  },
  {
   "cell_type": "code",
   "execution_count": null,
   "metadata": {},
   "outputs": [],
   "source": [
    "# evaluation\n",
    "y_pred = classifier.predict(X_test)\n",
    "cm = confusion_matrix(y_test, y_pred)\n",
    "cr = classification_report(y_test, y_pred)\n",
    "accuracy = accuracy_score(y_test, y_pred)\n",
    "\n",
    "\n",
    "# main\n",
    "def process(input):\n",
    "    for index, e in enumerate(input):\n",
    "        print(f\"***\\t\\tsample {index}\\t\\t***\")\n",
    "        t=xpuzzle.XPuzzle(2, 4, input[index]) \n",
    "        s=search.Search(t, 30)\n",
    "\n",
    "        p = s.uniformCost()\n",
    "        print(p[0])\n",
    "        exportData(\"ucs\", index, p)\n",
    "\n",
    "        for heuristic in range(2):\n",
    "            p = s.greedyBFS(heuristic)\n",
    "            print(p[0])\n",
    "            exportData(\"gbfs\", index, p, heuristic)\n",
    "\n",
    "            p  = s.aStar(heuristic)\n",
    "            print(p[0])\n",
    "            exportData(\"astar\", index, p, heuristic)"
   ]
  },
  {
   "cell_type": "code",
   "execution_count": null,
   "metadata": {},
   "outputs": [],
   "source": [
    "inputData = importData('samplePuzzles.txt')\n",
    "print(inputData, end='\\n\\n')\n",
    "process(inputData)\n",
    "\n",
    "# X_train, X_val, y_train, y_val = sklearn.model_selection.train_test_split(\n",
    "#     X, y, train_size=0.9, random_state=0)\n",
    "# X_val, X_test, y_val, y_test = sklearn.model_selection.train_test_split(\n",
    "#     X_temp, y_temp, train_size=0.5, random_state=0)\n",
    "# print(X_train.shape)\n",
    "# print(X_val.shape)\n",
    "# print(X_test.shape)"
   ]
  },
  {
   "cell_type": "code",
   "execution_count": null,
   "metadata": {},
   "outputs": [],
   "source": []
  }
 ]
}