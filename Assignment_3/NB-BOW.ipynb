{
 "metadata": {
  "language_info": {
   "codemirror_mode": {
    "name": "ipython",
    "version": 3
   },
   "file_extension": ".py",
   "mimetype": "text/x-python",
   "name": "python",
   "nbconvert_exporter": "python",
   "pygments_lexer": "ipython3",
   "version": "3.8.5-final"
  },
  "orig_nbformat": 2,
  "kernelspec": {
   "name": "python3",
   "display_name": "Python 3.8.5 64-bit ('testenv': conda)",
   "metadata": {
    "interpreter": {
     "hash": "65a42bdb2f4fd1e2963f63fbecc12d40428c78ad536e43f0559247f991c7d5d2"
    }
   }
  }
 },
 "nbformat": 4,
 "nbformat_minor": 2,
 "cells": [
  {
   "cell_type": "code",
   "execution_count": 1,
   "metadata": {},
   "outputs": [],
   "source": [
    "import numpy as np\n",
    "import pandas as pd\n",
    "import matplotlib.pyplot as plt\n",
    "import operator\n",
    "import sklearn\n",
    "import sklearn.model_selection\n",
    "from sklearn.metrics import confusion_matrix, classification_report, accuracy_score\n",
    "\n",
    "import re\n",
    "import nltk"
   ]
  },
  {
   "cell_type": "code",
   "execution_count": 2,
   "metadata": {},
   "outputs": [],
   "source": [
    "import importlib\n",
    "import src.models as model\n",
    "importlib.reload(model)\n",
    "import src.utils as util\n",
    "importlib.reload(util);"
   ]
  },
  {
   "cell_type": "code",
   "execution_count": 3,
   "metadata": {
    "tags": []
   },
   "outputs": [
    {
     "output_type": "stream",
     "name": "stdout",
     "text": [
      "(399, 1)\n(54, 1)\n"
     ]
    }
   ],
   "source": [
    "# global data\n",
    "training_set = pd.read_csv(\"data/covid_training.tsv\", sep=\"\\t\")\n",
    "test_set = pd.read_csv(\"data/covid_test_public.tsv\", sep=\"\\t\")\n",
    "preX = training_set.values[:,1]\n",
    "prey = training_set.values[:,2]\n",
    "X = np.array(preX).reshape(-1, 1)\n",
    "categories = list(set(prey))\n",
    "categories.reverse() #fix random seed of set uncertain index\n",
    "y = np.array([categories.index(ele) for ele in prey]).reshape(-1,1)\n",
    "\n",
    "X_test = test_set.values[:,1].reshape(-1, 1)\n",
    "y_test = np.array([categories.index(ele) for ele in test_set.values[:,2]]).reshape(-1,1)\n",
    "X_train, X_val, y_train, y_val = sklearn.model_selection.train_test_split(X, y, train_size=0.9, random_state=0)\n",
    "print(X.shape)\n",
    "print(X_test.shape)"
   ]
  },
  {
   "cell_type": "code",
   "execution_count": 4,
   "metadata": {},
   "outputs": [
    {
     "output_type": "execute_result",
     "data": {
      "text/plain": [
       "                                   Training Examples Training Labels\n",
       "0  For the average American the best way to tell ...               1\n",
       "1                           this is fucking bullshit               1\n",
       "2  Can y’all please just follow the government’s ...               1\n",
       "3  No offense but the corona virus disappearing b...               1\n",
       "4  This is the face of someone who just spent 9 h...               0"
      ],
      "text/html": "<div>\n<style scoped>\n    .dataframe tbody tr th:only-of-type {\n        vertical-align: middle;\n    }\n\n    .dataframe tbody tr th {\n        vertical-align: top;\n    }\n\n    .dataframe thead th {\n        text-align: right;\n    }\n</style>\n<table border=\"1\" class=\"dataframe\">\n  <thead>\n    <tr style=\"text-align: right;\">\n      <th></th>\n      <th>Training Examples</th>\n      <th>Training Labels</th>\n    </tr>\n  </thead>\n  <tbody>\n    <tr>\n      <th>0</th>\n      <td>For the average American the best way to tell ...</td>\n      <td>1</td>\n    </tr>\n    <tr>\n      <th>1</th>\n      <td>this is fucking bullshit</td>\n      <td>1</td>\n    </tr>\n    <tr>\n      <th>2</th>\n      <td>Can y’all please just follow the government’s ...</td>\n      <td>1</td>\n    </tr>\n    <tr>\n      <th>3</th>\n      <td>No offense but the corona virus disappearing b...</td>\n      <td>1</td>\n    </tr>\n    <tr>\n      <th>4</th>\n      <td>This is the face of someone who just spent 9 h...</td>\n      <td>0</td>\n    </tr>\n  </tbody>\n</table>\n</div>"
     },
     "metadata": {},
     "execution_count": 4
    }
   ],
   "source": [
    "#data format\n",
    "pd.DataFrame(data=np.column_stack([X_test,y_test]),columns=[\"Training Examples\",\"Training Labels\"]).head()\n",
    "pd.DataFrame(data=np.column_stack([X,y]),columns=[\"Training Examples\",\"Training Labels\"]).head()"
   ]
  },
  {
   "cell_type": "code",
   "execution_count": 5,
   "metadata": {
    "tags": []
   },
   "outputs": [
    {
     "output_type": "stream",
     "name": "stdout",
     "text": [
      "---------------- Training In Progress --------------------\n1381\n2655\n1381\n2655\n----------------- Training Completed ---------------------\n"
     ]
    }
   ],
   "source": [
    "#training orignal model\n",
    "nb_bow1 = model.NB_BOW(np.unique(y)) #instantiate a NB class object\n",
    "print (\"---------------- Training In Progress --------------------\")\n",
    "nb_bow1.trainModel(X, y) #start tarining by calling the train function\n",
    "print ('----------------- Training Completed ---------------------')"
   ]
  },
  {
   "cell_type": "code",
   "execution_count": 6,
   "metadata": {
    "tags": []
   },
   "outputs": [
    {
     "output_type": "stream",
     "name": "stdout",
     "text": [
      "---------------- Training In Progress --------------------\n",
      "1244\n",
      "2345\n",
      "435\n",
      "865\n",
      "----------------- Training Completed ---------------------\n"
     ]
    }
   ],
   "source": [
    "#training filter model\n",
    "nb_bow2 = model.NB_BOW(np.unique(y), True) #instantiate a NB class object\n",
    "print (\"---------------- Training In Progress --------------------\")\n",
    "nb_bow2.trainModel(X, y) #start tarining by calling the train function\n",
    "print ('----------------- Training Completed ---------------------')"
   ]
  },
  {
   "cell_type": "code",
   "execution_count": 7,
   "metadata": {
    "tags": []
   },
   "outputs": [
    {
     "output_type": "stream",
     "name": "stdout",
     "text": [
      "----------------- Result ---------------------\nTest Set Size:      54\nTest Set Accuracy:  74.07407407407408 %\n[0 0 0 0 0 0 0 1 0 0 1 0 0 1 0 0 0 0 1 0 1 1 1 0 0 1 0 0 0 1 1 1 1 0 0 0 1\n 1 1 0 0 0 0 1 0 1 1 0 0 0 0 0 1 0]\n[0 1 1 0 0 0 0 1 0 0 1 1 0 0 0 0 0 1 1 0 0 0 1 1 0 0 1 0 0 1 0 1 1 0 1 0 1\n 1 1 0 0 0 0 1 0 1 0 0 0 0 1 0 1 0]\n"
     ]
    }
   ],
   "source": [
    "#testing\n",
    "util.displayResult(nb_bow1, X_test, y_test)"
   ]
  },
  {
   "cell_type": "code",
   "execution_count": 8,
   "metadata": {
    "tags": []
   },
   "outputs": [
    {
     "output_type": "stream",
     "name": "stdout",
     "text": [
      "----------------- Result ---------------------\n",
      "Test Set Size:      54\n",
      "Test Set Accuracy:  74.07407407407408 %\n",
      "[0 0 0 0 0 0 0 1 0 0 1 0 0 1 0 0 0 0 1 0 1 1 1 0 0 1 0 0 0 1 1 1 1 0 0 0 1\n",
      " 1 1 0 0 0 0 1 0 1 1 0 0 0 0 0 1 0]\n",
      "[0 1 1 0 0 0 0 1 0 0 1 1 0 0 0 0 0 1 1 0 0 0 1 1 0 0 1 0 0 1 0 1 1 0 1 0 1\n",
      " 1 1 0 0 0 0 1 0 1 0 0 0 0 1 0 1 0]\n",
      "Trace file produced: 'result/trace_NB-BOW-OV.txt '\n",
      "Evaluation file produced: 'result/eval_NB-BOW-OV.txt '\n",
      "TEST: Precision: 0.6842\tRecall: 0.619\tF1: 0.65\n",
      "----------------- Result ---------------------\n",
      "Test Set Size:      54\n",
      "Test Set Accuracy:  66.66666666666666 %\n",
      "[1 0 1 0 1 0 1 1 1 0 1 1 0 1 0 1 1 0 1 0 0 1 1 1 0 1 1 1 1 1 1 0 1 0 1 0 1\n",
      " 1 1 0 0 0 0 1 0 1 0 0 1 0 0 1 1 0]\n",
      "[0 1 1 0 0 0 0 1 0 0 1 1 0 0 0 0 0 1 1 0 0 0 1 1 0 0 1 0 0 1 0 1 1 0 1 0 1\n",
      " 1 1 0 0 0 0 1 0 1 0 0 0 0 1 0 1 0]\n",
      "Trace file produced: 'result/trace_NB-BOW-FV.txt'\n",
      "Evaluation file produced: 'result/eval_NB-BOW-FV.txt'\n",
      "TEST: Precision: 0.5484\tRecall: 0.8095\tF1: 0.6538\n"
     ]
    }
   ],
   "source": [
    "#process\n",
    "util.processData([nb_bow1, nb_bow2], X_test, y_test, test_set)"
   ]
  },
  {
   "cell_type": "code",
   "execution_count": null,
   "metadata": {},
   "outputs": [],
   "source": []
  }
 ]
}