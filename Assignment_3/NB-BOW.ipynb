{
 "metadata": {
  "language_info": {
   "codemirror_mode": {
    "name": "ipython",
    "version": 3
   },
   "file_extension": ".py",
   "mimetype": "text/x-python",
   "name": "python",
   "nbconvert_exporter": "python",
   "pygments_lexer": "ipython3",
   "version": "3.8.5-final"
  },
  "orig_nbformat": 2,
  "kernelspec": {
   "name": "python3",
   "display_name": "Python 3.8.5 64-bit ('testenv': conda)",
   "metadata": {
    "interpreter": {
     "hash": "65a42bdb2f4fd1e2963f63fbecc12d40428c78ad536e43f0559247f991c7d5d2"
    }
   }
  }
 },
 "nbformat": 4,
 "nbformat_minor": 2,
 "cells": [
  {
   "cell_type": "code",
   "execution_count": 2,
   "metadata": {},
   "outputs": [],
   "source": [
    "import numpy as np\n",
    "import pandas as pd\n",
    "import matplotlib.pyplot as plt\n",
    "import operator\n",
    "import sklearn\n",
    "import sklearn.model_selection\n",
    "from sklearn.metrics import confusion_matrix, classification_report, accuracy_score\n",
    "\n",
    "import re\n",
    "import nltk"
   ]
  },
  {
   "cell_type": "code",
   "execution_count": 3,
   "metadata": {},
   "outputs": [
    {
     "output_type": "stream",
     "name": "stderr",
     "text": [
      "[nltk_data] Downloading package punkt to\n[nltk_data]     C:\\Users\\Admin\\AppData\\Roaming\\nltk_data...\n[nltk_data]   Package punkt is already up-to-date!\n[nltk_data] Downloading package stopwords to\n[nltk_data]     C:\\Users\\Admin\\AppData\\Roaming\\nltk_data...\n[nltk_data]   Package stopwords is already up-to-date!\n"
     ]
    }
   ],
   "source": [
    "nltk.download('punkt')\n",
    "from nltk.tokenize import word_tokenize as wt \n",
    "nltk.download('stopwords')\n",
    "from nltk.corpus import stopwords\n",
    "\n",
    "import importlib\n",
    "import src.models as model\n",
    "importlib.reload(model)\n",
    "import src.utils as util\n",
    "importlib.reload(util);"
   ]
  },
  {
   "cell_type": "code",
   "execution_count": 12,
   "metadata": {
    "tags": []
   },
   "outputs": [
    {
     "output_type": "stream",
     "name": "stdout",
     "text": [
      "(54, 1)\n"
     ]
    }
   ],
   "source": [
    "# global data\n",
    "training_set = pd.read_csv(\"data/covid_training.tsv\", sep=\"\\t\")\n",
    "test_set = pd.read_csv(\"data/covid_test_public.tsv\", sep=\"\\t\")\n",
    "preX = training_set.values[:,1]\n",
    "prey = training_set.values[:,2]\n",
    "X = np.array(preX).reshape(-1, 1)\n",
    "categories = list(set(prey))\n",
    "categories.reverse()\n",
    "y = np.array([categories.index(ele) for ele in prey]).reshape(-1,1)\n",
    "\n",
    "X_test = test_set.values[:,1].reshape(-1, 1)\n",
    "y_test = np.array([categories.index(ele) for ele in test_set.values[:,2]]).reshape(-1,1)\n",
    "X_train, X_val, y_train, y_val = sklearn.model_selection.train_test_split(X, y, train_size=0.9, random_state=0)\n",
    "print(X_test.shape)"
   ]
  },
  {
   "cell_type": "code",
   "execution_count": 13,
   "metadata": {},
   "outputs": [
    {
     "output_type": "execute_result",
     "data": {
      "text/plain": [
       "                                   Training Examples Training Labels\n",
       "0  Panic buying and stockpiling of toilet roll co...               1\n",
       "1  Everyone can help prevent the spread of #COVID...               0\n",
       "2  Isa sa pinakamaganda mong maa-ambag about COVI...               0\n",
       "3  BREAKING: Department of Health announces 11 mo...               1\n",
       "4  Why has it taken the threat of a virus before ...               1"
      ],
      "text/html": "<div>\n<style scoped>\n    .dataframe tbody tr th:only-of-type {\n        vertical-align: middle;\n    }\n\n    .dataframe tbody tr th {\n        vertical-align: top;\n    }\n\n    .dataframe thead th {\n        text-align: right;\n    }\n</style>\n<table border=\"1\" class=\"dataframe\">\n  <thead>\n    <tr style=\"text-align: right;\">\n      <th></th>\n      <th>Training Examples</th>\n      <th>Training Labels</th>\n    </tr>\n  </thead>\n  <tbody>\n    <tr>\n      <th>0</th>\n      <td>Panic buying and stockpiling of toilet roll co...</td>\n      <td>1</td>\n    </tr>\n    <tr>\n      <th>1</th>\n      <td>Everyone can help prevent the spread of #COVID...</td>\n      <td>0</td>\n    </tr>\n    <tr>\n      <th>2</th>\n      <td>Isa sa pinakamaganda mong maa-ambag about COVI...</td>\n      <td>0</td>\n    </tr>\n    <tr>\n      <th>3</th>\n      <td>BREAKING: Department of Health announces 11 mo...</td>\n      <td>1</td>\n    </tr>\n    <tr>\n      <th>4</th>\n      <td>Why has it taken the threat of a virus before ...</td>\n      <td>1</td>\n    </tr>\n  </tbody>\n</table>\n</div>"
     },
     "metadata": {},
     "execution_count": 13
    }
   ],
   "source": [
    "#data format\n",
    "pd.DataFrame(data=np.column_stack([X,y]),columns=[\"Training Examples\",\"Training Labels\"]).head()\n",
    "pd.DataFrame(data=np.column_stack([X_test,y_test]),columns=[\"Training Examples\",\"Training Labels\"]).head()"
   ]
  },
  {
   "cell_type": "code",
   "execution_count": 14,
   "metadata": {
    "tags": []
   },
   "outputs": [
    {
     "output_type": "stream",
     "name": "stdout",
     "text": [
      "---------------- Training In Progress --------------------\n----------------- Training Completed ---------------------\n"
     ]
    }
   ],
   "source": [
    "#training\n",
    "nb_bow1 = model.NB_BOW(np.unique(y)) #instantiate a NB class object\n",
    "print (\"---------------- Training In Progress --------------------\")\n",
    "nb_bow1.train(X, y) #start tarining by calling the train function\n",
    "print ('----------------- Training Completed ---------------------')"
   ]
  },
  {
   "cell_type": "code",
   "execution_count": 15,
   "metadata": {},
   "outputs": [
    {
     "output_type": "stream",
     "name": "stdout",
     "text": [
      "---------------- Training In Progress --------------------\n----------------- Training Completed ---------------------\n"
     ]
    }
   ],
   "source": [
    "#training\n",
    "nb_bow2 = model.NB_BOW(np.unique(y), True) #instantiate a NB class object\n",
    "print (\"---------------- Training In Progress --------------------\")\n",
    "nb_bow2.train(X, y) #start tarining by calling the train function\n",
    "print ('----------------- Training Completed ---------------------')"
   ]
  },
  {
   "cell_type": "code",
   "execution_count": 16,
   "metadata": {
    "tags": []
   },
   "outputs": [
    {
     "output_type": "stream",
     "name": "stdout",
     "text": [
      "----------------- Result ---------------------\nTest Set Size:      54\nTest Set Accuracy:  66.66666666666666 %\n[1 1 1 1 1 1 1 1 1 1 1 1 1 0 1 1 1 1 1 1 1 1 1 1 1 1 1 1 1 0 0 0 1 1 1 1 1\n 1 1 1 1 1 1 0 1 0 1 1 1 1 1 1 0 1]\n[1 0 0 1 1 1 1 0 1 1 0 0 1 1 1 1 1 0 0 1 1 1 0 0 1 1 0 1 1 0 1 0 0 1 0 1 0\n 0 0 1 1 1 1 0 1 0 1 1 1 1 0 1 0 1]\n"
     ]
    }
   ],
   "source": [
    "#testing\n",
    "util.displayResult(nb_bow1, X_test, y_test)"
   ]
  },
  {
   "cell_type": "code",
   "execution_count": 17,
   "metadata": {
    "tags": []
   },
   "outputs": [
    {
     "output_type": "stream",
     "name": "stdout",
     "text": [
      "----------------- Result ---------------------\nTest Set Size:      54\nTest Set Accuracy:  66.66666666666666 %\n[1 1 1 1 1 1 1 1 1 1 1 1 1 0 1 1 1 1 1 1 1 1 1 1 1 1 1 1 1 0 0 0 1 1 1 1 1\n 1 1 1 1 1 1 0 1 0 1 1 1 1 1 1 0 1]\n[1 0 0 1 1 1 1 0 1 1 0 0 1 1 1 1 1 0 0 1 1 1 0 0 1 1 0 1 1 0 1 0 0 1 0 1 0\n 0 0 1 1 1 1 0 1 0 1 1 1 1 0 1 0 1]\nTrace file produced: 'result/trace_NB-BOW-OV.txt '\nEvaluation file produced: 'result/eval_NB-BOW-OV.txt '\nTEST: Precision: 0.6596\tRecall: 0.9394\tF1: 0.775\n----------------- Result ---------------------\nTest Set Size:      54\nTest Set Accuracy:  64.81481481481481 %\n[1 1 1 1 0 1 1 1 1 1 0 1 1 0 1 1 1 1 0 1 1 0 0 1 1 0 1 1 1 0 0 1 1 1 1 1 0\n 0 1 1 1 1 1 0 1 0 0 1 0 1 1 1 0 1]\n[1 0 0 1 1 1 1 0 1 1 0 0 1 1 1 1 1 0 0 1 1 1 0 0 1 1 0 1 1 0 1 0 0 1 0 1 0\n 0 0 1 1 1 1 0 1 0 1 1 1 1 0 1 0 1]\nTrace file produced: 'result/trace_NB-BOW-FV.txt'\nEvaluation file produced: 'result/eval_NB-BOW-FV.txt'\nTEST: Precision: 0.6842\tRecall: 0.7879\tF1: 0.7324\n"
     ]
    }
   ],
   "source": [
    "#process\n",
    "util.processData([nb_bow1, nb_bow2], X_test, y_test, test_set)"
   ]
  },
  {
   "cell_type": "code",
   "execution_count": null,
   "metadata": {},
   "outputs": [],
   "source": []
  }
 ]
}