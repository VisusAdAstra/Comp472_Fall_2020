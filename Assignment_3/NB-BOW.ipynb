{
 "metadata": {
  "language_info": {
   "codemirror_mode": {
    "name": "ipython",
    "version": 3
   },
   "file_extension": ".py",
   "mimetype": "text/x-python",
   "name": "python",
   "nbconvert_exporter": "python",
   "pygments_lexer": "ipython3",
   "version": "3.8.5-final"
  },
  "orig_nbformat": 2,
  "kernelspec": {
   "name": "python3",
   "display_name": "Python 3.8.5 64-bit ('testenv': conda)",
   "metadata": {
    "interpreter": {
     "hash": "65a42bdb2f4fd1e2963f63fbecc12d40428c78ad536e43f0559247f991c7d5d2"
    }
   }
  }
 },
 "nbformat": 4,
 "nbformat_minor": 2,
 "cells": [
  {
   "cell_type": "code",
   "execution_count": 43,
   "metadata": {},
   "outputs": [],
   "source": [
    "import numpy as np\n",
    "import pandas as pd\n",
    "import matplotlib.pyplot as plt\n",
    "import operator\n",
    "import sklearn\n",
    "import sklearn.model_selection\n",
    "from sklearn.metrics import confusion_matrix, classification_report, accuracy_score\n",
    "\n",
    "import re\n",
    "import nltk"
   ]
  },
  {
   "cell_type": "code",
   "execution_count": 58,
   "metadata": {},
   "outputs": [
    {
     "output_type": "stream",
     "name": "stderr",
     "text": [
      "[nltk_data] Downloading package punkt to\n[nltk_data]     C:\\Users\\Admin\\AppData\\Roaming\\nltk_data...\n[nltk_data]   Package punkt is already up-to-date!\n[nltk_data] Downloading package stopwords to\n[nltk_data]     C:\\Users\\Admin\\AppData\\Roaming\\nltk_data...\n[nltk_data]   Package stopwords is already up-to-date!\n"
     ]
    }
   ],
   "source": [
    "nltk.download('punkt')\n",
    "from nltk.tokenize import word_tokenize as wt \n",
    "nltk.download('stopwords')\n",
    "from nltk.corpus import stopwords\n",
    "\n",
    "import importlib\n",
    "import src.models as model\n",
    "importlib.reload(model)\n",
    "import src.utils as util\n",
    "importlib.reload(util);"
   ]
  },
  {
   "cell_type": "code",
   "execution_count": 60,
   "metadata": {
    "tags": []
   },
   "outputs": [
    {
     "output_type": "stream",
     "name": "stdout",
     "text": [
      "(54, 1)\n"
     ]
    }
   ],
   "source": [
    "# global data\n",
    "training_set = pd.read_csv(\"data/covid_training.tsv\", sep=\"\\t\")\n",
    "test_set = pd.read_csv(\"data/covid_test_public.tsv\", sep=\"\\t\")\n",
    "preX = training_set.values[:,1]\n",
    "prey = training_set.values[:,2]\n",
    "X = np.array(preX).reshape(-1, 1)\n",
    "categories = list(set(prey))\n",
    "y = np.array([categories.index(ele) for ele in prey]).reshape(-1,1)\n",
    "\n",
    "X_test = test_set.values[:,1].reshape(-1, 1)\n",
    "y_test = np.array([categories.index(ele) for ele in test_set.values[:,2]]).reshape(-1,1)\n",
    "X_train, X_val, y_train, y_val = sklearn.model_selection.train_test_split(X, y, train_size=0.9, random_state=0)\n",
    "print(X_test.shape)\n",
    "\n",
    "\n",
    "\n",
    "# X_train, X_val, y_train, y_val = sklearn.model_selection.train_test_split(\n",
    "#     X, y, train_size=0.9, random_state=0)\n",
    "# X_val, X_test, y_val, y_test = sklearn.model_selection.train_test_split(\n",
    "#     X_temp, y_temp, train_size=0.5, random_state=0)\n",
    "# print(X_train.shape)\n",
    "# print(X_val.shape)\n",
    "# print(X_test.shape)"
   ]
  },
  {
   "cell_type": "code",
   "execution_count": 62,
   "metadata": {},
   "outputs": [
    {
     "output_type": "execute_result",
     "data": {
      "text/plain": [
       "                                   Training Examples Training Labels\n",
       "0  Panic buying and stockpiling of toilet roll co...               1\n",
       "1  Everyone can help prevent the spread of #COVID...               0\n",
       "2  Isa sa pinakamaganda mong maa-ambag about COVI...               0\n",
       "3  BREAKING: Department of Health announces 11 mo...               1\n",
       "4  Why has it taken the threat of a virus before ...               1"
      ],
      "text/html": "<div>\n<style scoped>\n    .dataframe tbody tr th:only-of-type {\n        vertical-align: middle;\n    }\n\n    .dataframe tbody tr th {\n        vertical-align: top;\n    }\n\n    .dataframe thead th {\n        text-align: right;\n    }\n</style>\n<table border=\"1\" class=\"dataframe\">\n  <thead>\n    <tr style=\"text-align: right;\">\n      <th></th>\n      <th>Training Examples</th>\n      <th>Training Labels</th>\n    </tr>\n  </thead>\n  <tbody>\n    <tr>\n      <th>0</th>\n      <td>Panic buying and stockpiling of toilet roll co...</td>\n      <td>1</td>\n    </tr>\n    <tr>\n      <th>1</th>\n      <td>Everyone can help prevent the spread of #COVID...</td>\n      <td>0</td>\n    </tr>\n    <tr>\n      <th>2</th>\n      <td>Isa sa pinakamaganda mong maa-ambag about COVI...</td>\n      <td>0</td>\n    </tr>\n    <tr>\n      <th>3</th>\n      <td>BREAKING: Department of Health announces 11 mo...</td>\n      <td>1</td>\n    </tr>\n    <tr>\n      <th>4</th>\n      <td>Why has it taken the threat of a virus before ...</td>\n      <td>1</td>\n    </tr>\n  </tbody>\n</table>\n</div>"
     },
     "metadata": {},
     "execution_count": 62
    }
   ],
   "source": [
    "#data format\n",
    "pd.DataFrame(data=np.column_stack([X,y]),columns=[\"Training Examples\",\"Training Labels\"]).head()\n",
    "pd.DataFrame(data=np.column_stack([X_test,y_test]),columns=[\"Training Examples\",\"Training Labels\"]).head()"
   ]
  },
  {
   "cell_type": "code",
   "execution_count": 63,
   "metadata": {
    "tags": []
   },
   "outputs": [
    {
     "output_type": "stream",
     "name": "stdout",
     "text": [
      "---------------- Training In Progress --------------------\n----------------- Training Completed ---------------------\n"
     ]
    }
   ],
   "source": [
    "#training\n",
    "nb_bow = model.NaiveBayes(np.unique(y)) #instantiate a NB class object\n",
    "\n",
    "print (\"---------------- Training In Progress --------------------\")\n",
    " \n",
    "nb_bow.train(X, y) #start tarining by calling the train function\n",
    "\n",
    "print ('----------------- Training Completed ---------------------')"
   ]
  },
  {
   "cell_type": "code",
   "execution_count": 69,
   "metadata": {
    "tags": []
   },
   "outputs": [
    {
     "output_type": "stream",
     "name": "stdout",
     "text": [
      "Test Set Examples:  54\nTest Set Accuracy:  68.51851851851852 %\n"
     ]
    }
   ],
   "source": [
    "#testing\n",
    "predict_classes = nb_bow.test(X_test)\n",
    "test_acc=np.sum(predict_classes == y_test.reshape(-1))/float(y_test.shape[0]) \n",
    "\n",
    "print (\"Test Set Examples: \",y_test.shape[0])\n",
    "print (\"Test Set Accuracy: \",test_acc*100,\"%\")"
   ]
  },
  {
   "cell_type": "code",
   "execution_count": null,
   "metadata": {},
   "outputs": [],
   "source": [
    "# evaluation\n",
    "y_pred = classifier.predict(X_test)\n",
    "cm = confusion_matrix(y_test, y_pred)\n",
    "cr = classification_report(y_test, y_pred)\n",
    "accuracy = accuracy_score(y_test, y_pred)\n",
    "\n",
    "\n",
    "# main\n",
    "def process(input):\n",
    "    for index, e in enumerate(input):\n",
    "        print(f\"***\\t\\tsample {index}\\t\\t***\")\n",
    "        t=xpuzzle.XPuzzle(2, 4, input[index]) \n",
    "        s=search.Search(t, 30)\n",
    "\n",
    "        p = s.uniformCost()\n",
    "        print(p[0])\n",
    "        exportData(\"ucs\", index, p)\n",
    "\n",
    "        for heuristic in range(2):\n",
    "            p = s.greedyBFS(heuristic)\n",
    "            print(p[0])\n",
    "            exportData(\"gbfs\", index, p, heuristic)\n",
    "\n",
    "            p  = s.aStar(heuristic)\n",
    "            print(p[0])\n",
    "            exportData(\"astar\", index, p, heuristic)"
   ]
  },
  {
   "cell_type": "code",
   "execution_count": null,
   "metadata": {},
   "outputs": [],
   "source": [
    "inputData = importData('samplePuzzles.txt')\n",
    "print(inputData, end='\\n\\n')\n",
    "process(inputData)"
   ]
  },
  {
   "cell_type": "code",
   "execution_count": null,
   "metadata": {},
   "outputs": [],
   "source": []
  }
 ]
}