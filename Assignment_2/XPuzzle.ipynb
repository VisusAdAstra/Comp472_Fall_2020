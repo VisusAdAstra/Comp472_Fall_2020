{
 "metadata": {
  "language_info": {
   "codemirror_mode": {
    "name": "ipython",
    "version": 3
   },
   "file_extension": ".py",
   "mimetype": "text/x-python",
   "name": "python",
   "nbconvert_exporter": "python",
   "pygments_lexer": "ipython3",
   "version": "3.8.5-final"
  },
  "orig_nbformat": 2,
  "kernelspec": {
   "name": "Python 3.8.5 64-bit ('testenv': conda)",
   "display_name": "Python 3.8.5 64-bit ('testenv': conda)",
   "metadata": {
    "interpreter": {
     "hash": "65a42bdb2f4fd1e2963f63fbecc12d40428c78ad536e43f0559247f991c7d5d2"
    }
   }
  }
 },
 "nbformat": 4,
 "nbformat_minor": 2,
 "cells": [
  {
   "cell_type": "code",
   "execution_count": 1,
   "metadata": {},
   "outputs": [],
   "source": [
    "import pandas as pd\n",
    "import numpy as np\n",
    "import matplotlib as mpl\n",
    "import matplotlib.pyplot as plt\n",
    "import sklearn\n",
    "import sklearn.preprocessing         # For scale function\n",
    "import sklearn.metrics as metrics    # For for label size"
   ]
  },
  {
   "cell_type": "code",
   "execution_count": 2,
   "metadata": {},
   "outputs": [],
   "source": [
    "#global data\n",
    "import importlib\n",
    "import xpuzzle\n",
    "importlib.reload(xpuzzle)\n",
    "import search\n",
    "importlib.reload(search)\n",
    "inputData = np.array([])\n",
    "goalState=np.array([[1,2,3,4], [5,6,7,0]])"
   ]
  },
  {
   "cell_type": "code",
   "execution_count": 3,
   "metadata": {},
   "outputs": [
    {
     "output_type": "stream",
     "name": "stdout",
     "text": [
      "[[3 0 1 4 2 6 5 7]\n [6 3 4 7 1 2 5 0]\n [1 0 3 6 5 2 7 4]\n [0 3 5 1 7 2 4 6]\n [1 3 5 6 2 0 7 4]]\n"
     ]
    }
   ],
   "source": [
    "#i/o\n",
    "def exportData(frontier, time):\n",
    "\n",
    "    moves = 1\n",
    "    file = open('output.txt', 'w')\n",
    "    file.write(\"path_to_goal: \" + str(moves))\n",
    "    file.write(\"\\ncost_of_path: \" + str(len(moves)))\n",
    "    file.write(\"\\nnodes_expanded: \" + str(nodes_expanded))\n",
    "    file.write(\"\\nfringe_size: \" + str(len(frontier)))\n",
    "    file.write(\"\\nmax_fringe_size: \" + str(max_frontier_size))\n",
    "    file.write(\"\\nsearch_depth: \" + str(goal_node.depth))\n",
    "    file.write(\"\\nmax_search_depth: \" + str(max_search_depth))\n",
    "    file.write(\"\\nrunning_time: \" + format(time, '.8f'))\n",
    "    file.close()\n",
    "\n",
    "\n",
    "def importData(file_name):\n",
    "\n",
    "    data = []\n",
    "    file = open(file_name, 'r')\n",
    "    for line in file:\n",
    "        data.append([int(x) for x in line.split(\" \")])\n",
    "\n",
    "    data = np.array(data)\n",
    "    board_len = len(data[0])\n",
    "    board_side = int(board_len ** 0.5)\n",
    "    return data\n",
    "\n",
    "inputData = importData('samplePuzzles.txt')\n",
    "print(inputData)"
   ]
  },
  {
   "cell_type": "code",
   "execution_count": 5,
   "metadata": {
    "tags": []
   },
   "outputs": [
    {
     "output_type": "stream",
     "name": "stdout",
     "text": [
      "6 3 5 1 \n7 2 4 0 \n\n1 3 5 7 \n2 4 6 0 \n\n1 3 5 7 \n2 4 6 0 \n\n"
     ]
    }
   ],
   "source": [
    "t=xpuzzle.XPuzzle(2, 4, inputData[3]) #inputData[0] no solution\n",
    "t.doMove(\"C\")\n",
    "t.printPuzzle()\n",
    "\n",
    "s=search.Search(t)\n",
    "p = s.bestFirst()\n",
    "p.state.printPuzzle()\n",
    "p = s.aStar(1)\n",
    "p.state.printPuzzle()"
   ]
  },
  {
   "cell_type": "code",
   "execution_count": null,
   "metadata": {},
   "outputs": [],
   "source": []
  }
 ]
}