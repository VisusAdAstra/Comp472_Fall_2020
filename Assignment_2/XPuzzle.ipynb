{
 "metadata": {
  "language_info": {
   "codemirror_mode": {
    "name": "ipython",
    "version": 3
   },
   "file_extension": ".py",
   "mimetype": "text/x-python",
   "name": "python",
   "nbconvert_exporter": "python",
   "pygments_lexer": "ipython3",
   "version": "3.8.5-final"
  },
  "orig_nbformat": 2,
  "kernelspec": {
   "name": "python3",
   "display_name": "Python 3.8.5 64-bit ('testenv': conda)",
   "metadata": {
    "interpreter": {
     "hash": "65a42bdb2f4fd1e2963f63fbecc12d40428c78ad536e43f0559247f991c7d5d2"
    }
   }
  }
 },
 "nbformat": 4,
 "nbformat_minor": 2,
 "cells": [
  {
   "cell_type": "code",
   "execution_count": 32,
   "metadata": {},
   "outputs": [],
   "source": [
    "import pandas as pd\n",
    "import numpy as np\n",
    "import matplotlib as mpl\n",
    "import matplotlib.pyplot as plt\n",
    "import sklearn\n",
    "import sklearn.preprocessing         # For scale function\n",
    "import sklearn.metrics as metrics    # For for label size"
   ]
  },
  {
   "cell_type": "code",
   "execution_count": 33,
   "metadata": {},
   "outputs": [],
   "source": [
    "#global data\n",
    "import importlib\n",
    "import xpuzzle\n",
    "importlib.reload(xpuzzle)\n",
    "import node\n",
    "importlib.reload(node)\n",
    "import search\n",
    "importlib.reload(search)\n",
    "inputData = np.array([])\n",
    "goalState=np.array([[1,2,3,4], [5,6,7,0]])"
   ]
  },
  {
   "cell_type": "code",
   "execution_count": 104,
   "metadata": {},
   "outputs": [
    {
     "output_type": "stream",
     "name": "stdout",
     "text": [
      "[[3 0 1 4 2 6 5 1]\n [6 3 4 7 1 2 5 0]\n [1 0 3 6 5 2 7 4]\n [0 3 5 1 7 2 4 6]\n [1 3 5 7 0 4 6 2]]\n"
     ]
    }
   ],
   "source": [
    "#i/o\n",
    "def noSolution(name, index, data, heu=-1):\n",
    "    #distance = (2-i)+(2-j) if index == -1 else abs(i-(index/self.state.size))+abs(j-(index%self.state.size))\n",
    "    # file.write(\"\\ncost: \" + str(moves))\n",
    "    # file.write(\"\\nrunning_time: \" + format(time, '.8f'))\n",
    "    file = open(f\"{index}_\" + name + heu + '_solution.txt', 'w')\n",
    "    file.write(data[0])\n",
    "    file.close()\n",
    "\n",
    "    file = open(f\"{index}_\" + name + heu + '_search.txt', 'w')\n",
    "    file.write(data[1])\n",
    "    file.close()\n",
    "\n",
    "\n",
    "def exportData(name, index, data, heu=-1):\n",
    "    cost = 0\n",
    "    subname = \"-h\" + str(heu) if heu > -1 else \"\"\n",
    "    solution = f\"output/{index}_{name}{subname}\" + '_solution.txt'\n",
    "    search = f\"output/{index}_{name}{subname}\" + '_search.txt'\n",
    "    file1 = open(solution, 'w')\n",
    "    file2 = open(search, 'w')\n",
    "    if isinstance(p[0], node.Node):\n",
    "        for ele in data[0].solution:\n",
    "            file1.write(ele)\n",
    "        for ele in data[1]:\n",
    "            file2.write(ele)\n",
    "    else:  \n",
    "        file1.write(data[0])\n",
    "        file2.write(data[1])\n",
    "    file1.close()\n",
    "    file2.close()\n",
    "    \n",
    "\n",
    "def importData(file_name):\n",
    "    data = []\n",
    "    file = open(file_name, 'r')\n",
    "    for line in file:\n",
    "        data.append([int(x) for x in line.split(\" \")])\n",
    "    data = np.array(data)\n",
    "    board_len = len(data[0])\n",
    "    board_side = int(board_len ** 0.5)\n",
    "    return data\n",
    "\n",
    "inputData = importData('samplePuzzles.txt')\n",
    "print(inputData)"
   ]
  },
  {
   "cell_type": "code",
   "execution_count": 110,
   "metadata": {
    "tags": []
   },
   "outputs": [
    {
     "output_type": "stream",
     "name": "stdout",
     "text": [
      "0 3 5 1 \n7 2 4 6 \n\n"
     ]
    }
   ],
   "source": [
    "#inputData[0] no solution\n",
    "index = 3\n",
    "t=xpuzzle.XPuzzle(2, 4, inputData[index]) \n",
    "t.printPuzzle()\n",
    "s=search.Search(t)\n"
   ]
  },
  {
   "cell_type": "code",
   "execution_count": 111,
   "metadata": {},
   "outputs": [
    {
     "output_type": "stream",
     "name": "stdout",
     "text": [
      "A*\nZCRRR\nZCRRR\n"
     ]
    }
   ],
   "source": [
    "print(\"A*\")\n",
    "for heuristic in range(2):\n",
    "    p  = s.aStar(heuristic)\n",
    "    print(p[0])\n",
    "    exportData(\"astar\", index, p, heuristic)\n"
   ]
  },
  {
   "cell_type": "code",
   "execution_count": 112,
   "metadata": {},
   "outputs": [
    {
     "output_type": "stream",
     "name": "stdout",
     "text": [
      "GBFS\nZCRRR\nZCRRR\n"
     ]
    }
   ],
   "source": [
    "print(\"GBFS\")\n",
    "for heuristic in range(2):\n",
    "    p = s.greedyBFS(heuristic)\n",
    "    print(p[0])\n",
    "    exportData(\"gbfs\", index, p, heuristic)\n"
   ]
  },
  {
   "cell_type": "code",
   "execution_count": 113,
   "metadata": {},
   "outputs": [
    {
     "output_type": "stream",
     "name": "stdout",
     "text": [
      "UCS\nZCRRR\n\nMoves\n1 3 5 0 \n7 2 4 6 \n\n1 3 5 7 \n0 2 4 6 \n\n1 3 5 7 \n2 0 4 6 \n\n1 3 5 7 \n2 4 0 6 \n\n1 3 5 7 \n2 4 6 0 \n\n"
     ]
    }
   ],
   "source": [
    "print(\"UCS\")\n",
    "p = s.bestFirst()\n",
    "print(p[0])\n",
    "exportData(\"ucs\", index, p)\n",
    "\n",
    "print(\"\\nMoves\")\n",
    "move = str(p[0])\n",
    "t.parseMoveSequence(move)\n"
   ]
  },
  {
   "cell_type": "code",
   "execution_count": null,
   "metadata": {},
   "outputs": [],
   "source": []
  }
 ]
}