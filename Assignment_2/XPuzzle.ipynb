{
 "metadata": {
  "language_info": {
   "codemirror_mode": {
    "name": "ipython",
    "version": 3
   },
   "file_extension": ".py",
   "mimetype": "text/x-python",
   "name": "python",
   "nbconvert_exporter": "python",
   "pygments_lexer": "ipython3",
   "version": "3.8.5-final"
  },
  "orig_nbformat": 2,
  "kernelspec": {
   "name": "python3",
   "display_name": "Python 3.8.5 64-bit ('testenv': conda)",
   "metadata": {
    "interpreter": {
     "hash": "65a42bdb2f4fd1e2963f63fbecc12d40428c78ad536e43f0559247f991c7d5d2"
    }
   }
  }
 },
 "nbformat": 4,
 "nbformat_minor": 2,
 "cells": [
  {
   "cell_type": "code",
   "execution_count": 39,
   "metadata": {},
   "outputs": [],
   "source": [
    "import pandas as pd\n",
    "import numpy as np\n",
    "import matplotlib as mpl\n",
    "import matplotlib.pyplot as plt\n",
    "import sklearn\n",
    "import sklearn.preprocessing         # For scale function\n",
    "import sklearn.metrics as metrics    # For for label size"
   ]
  },
  {
   "cell_type": "code",
   "execution_count": 42,
   "metadata": {},
   "outputs": [],
   "source": [
    "#global data\n",
    "import importlib\n",
    "import xpuzzle\n",
    "importlib.reload(xpuzzle)\n",
    "import node\n",
    "importlib.reload(node)\n",
    "import search\n",
    "importlib.reload(search)\n",
    "inputData = np.array([])\n",
    "goalState=np.array([[1,2,3,4], [5,6,7,0]])"
   ]
  },
  {
   "cell_type": "code",
   "execution_count": 43,
   "metadata": {},
   "outputs": [
    {
     "output_type": "stream",
     "name": "stdout",
     "text": [
      "[[3 0 1 4 2 6 5 7]\n [6 3 4 7 1 2 5 0]\n [1 0 3 6 5 2 7 4]\n [0 3 5 1 7 2 4 6]\n [1 3 5 6 2 0 7 1]]\n"
     ]
    }
   ],
   "source": [
    "#i/o\n",
    "def exportData(name, index, data):\n",
    "\n",
    "    moves = 1\n",
    "    file = open(f\"{index}_\" + name + '_solution.txt', 'w')\n",
    "    file.write(data[0])\n",
    "    file.close()\n",
    "    file = open(f\"{index}_\" + name + '_search.txt', 'w')\n",
    "    file.write(data[1])\n",
    "    file.write(\"\\ncost: \" + str(moves))\n",
    "    #file.write(\"\\nrunning_time: \" + format(time, '.8f'))\n",
    "    file.close()\n",
    "\n",
    "\n",
    "def importData(file_name):\n",
    "\n",
    "    data = []\n",
    "    file = open(file_name, 'r')\n",
    "    for line in file:\n",
    "        data.append([int(x) for x in line.split(\" \")])\n",
    "\n",
    "    data = np.array(data)\n",
    "    board_len = len(data[0])\n",
    "    board_side = int(board_len ** 0.5)\n",
    "    return data\n",
    "\n",
    "inputData = importData('samplePuzzles.txt')\n",
    "print(inputData)"
   ]
  },
  {
   "cell_type": "code",
   "execution_count": 44,
   "metadata": {
    "tags": []
   },
   "outputs": [
    {
     "output_type": "stream",
     "name": "stdout",
     "text": [
      "6 3 5 1 \n7 2 4 0 \n\nA*\n1 3 5 7 \n2 4 6 0 \n\n"
     ]
    }
   ],
   "source": [
    "t=xpuzzle.XPuzzle(2, 4, inputData[3]) #inputData[0] no solution\n",
    "t.doMove(\"C\")\n",
    "t.printPuzzle()\n",
    "\n",
    "s=search.Search(t)\n",
    "\n",
    "# print(\"DFS\")\n",
    "# p = s.bestFirst()\n",
    "\n",
    "# if isinstance(p, node.Node):\n",
    "#     p.state.printPuzzle()\n",
    "# else:\n",
    "#     exportData(\"dfs\", 0, p)\n",
    "\n",
    "# print(\"Moves\")\n",
    "# move = p.record()\n",
    "# t.parseMoveSequence(move)\n",
    "\n",
    "print(\"A*\")\n",
    "p = s.aStar(1)\n",
    "p.state.printPuzzle()\n"
   ]
  },
  {
   "cell_type": "code",
   "execution_count": null,
   "metadata": {},
   "outputs": [],
   "source": []
  }
 ]
}